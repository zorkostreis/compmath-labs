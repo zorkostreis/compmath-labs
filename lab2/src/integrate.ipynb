{
 "cells": [
  {
   "cell_type": "code",
   "execution_count": 1,
   "metadata": {},
   "outputs": [],
   "source": [
    "%matplotlib inline\n",
    "import numpy as np\n",
    "import matplotlib.pyplot as plt\n",
    "from scipy.constants import g\n",
    "\n",
    "%run educmm_lab1_qubic_spline.ipynb"
   ]
  },
  {
   "cell_type": "code",
   "execution_count": 2,
   "metadata": {},
   "outputs": [],
   "source": [
    "def res_function(x):\n",
    "    y_spline = []                        #значения кубического сплайна в точках x_spline[i], i = 0, ..., n\n",
    "    d_y_spline = []                      #значения первой производной кубического сплайна в точках x_spline[i], i = 0, ..., n\n",
    "    res_func = []                        #значения подынтегральной функции f(x) в точках x_spline[i], i = 0, ..., n\n",
    "    for i in range(len(x)):\n",
    "        y_spline.append(qubic_spline(x[i], coeff, x_for_interpol, y_for_interpol))\n",
    "        d_y_spline.append(d_qubic_spline(x[i], coeff, x_for_interpol, y_for_interpol))\n",
    "        res_func.append(np.sqrt((1. + d_y_spline[i]**2.) / (2. * g * y_spline[i])))\n",
    "      \n",
    "    return res_func"
   ]
  },
  {
   "cell_type": "code",
   "execution_count": 4,
   "metadata": {},
   "outputs": [],
   "source": [
    "def composite_trapezoid(a, b, n, func):\n",
    "    x = np.linspace(a, b, n + 1)\n",
    "    f = func(x)\n",
    "    h = (b - a) / n\n",
    "    return  h/2.*(f[0] + 2*np.sum(f[1:-1]) + f[-1])"
   ]
  },
  {
   "cell_type": "code",
   "execution_count": 5,
   "metadata": {},
   "outputs": [],
   "source": [
    "def composite_simpson(a, b, n, func):\n",
    "    if n%2 != 0:\n",
    "        n+=1\n",
    "    x = np.linspace(a, b, n + 1)\n",
    "    f = func(x)\n",
    "    h = (b - a) / n\n",
    "    return h/3.*(f[0] + 2*np.sum(f[2:-1:2]) + 4*np.sum(f[1::2]) + f[-1])"
   ]
  },
  {
   "cell_type": "code",
   "execution_count": 6,
   "metadata": {},
   "outputs": [],
   "source": [
    "def error_simpson(a, b, n):\n",
    "    return np.abs(exact_integral - composite_simpson(a, b, n, res_function))"
   ]
  },
  {
   "cell_type": "code",
   "execution_count": 7,
   "metadata": {},
   "outputs": [],
   "source": [
    "def error_trapezoid(a, b, n):\n",
    "    return np.abs(exact_integral - composite_trapezoid(a, b, n, res_function))"
   ]
  },
  {
   "cell_type": "code",
   "execution_count": 24,
   "metadata": {},
   "outputs": [],
   "source": [
    "C = 1.03439984\n",
    "T = 1.75418438\n",
    "\n",
    "t = np.linspace(1e-1, T, 10000)\n",
    "    \n",
    "x = [C*(t[x] - 1/2*np.sin(2*t[x])) for x in range(len(t))]\n",
    "y = [C*(1/2 - 1/2*np.cos(2*t[y])) for y in range(len(t))]"
   ]
  },
  {
   "cell_type": "code",
   "execution_count": 11,
   "metadata": {},
   "outputs": [],
   "source": [
    "def nearest_index(x, x_new):\n",
    "    index = np.searchsorted(x, x_new)\n",
    "    if np.fabs(x[index-1]-x_new) < np.fabs(x[index]-x_new):\n",
    "        return index-1\n",
    "    else:\n",
    "        return index"
   ]
  },
  {
   "cell_type": "code",
   "execution_count": 14,
   "metadata": {},
   "outputs": [],
   "source": [
    "x_equid = np.linspace(x[0], x[-1], 500)\n",
    "\n",
    "index_for_x = []                              #индексы для равноудалённых х\n",
    "\n",
    "for i in range(len(x_equid)):\n",
    "    index = nearest_index(x, x_equid[i])\n",
    "    index_for_x.append(index)\n",
    "    \n",
    "x_for_interpol=[]   #равноудалённые x\n",
    "y_for_interpol=[]   #y для равноудалённых x\n",
    "\n",
    "for i in range(len(index_for_x)):             \n",
    "    x_for_interpol.append(x[index_for_x[i]])\n",
    "    y_for_interpol.append(y[index_for_x[i]])\n",
    "\n",
    "coeff = qubic_spline_coeff(x_for_interpol, y_for_interpol)      #коэффициенты для кубического сплайна\n",
    "\n",
    "a = x_for_interpol[0]\n",
    "b = x_for_interpol[-1]\n",
    "exact_integral = np.sqrt(2*C/g)*(t[index_for_x[-1]]-t[index_for_x[0]])     #точное значение инетграла"
   ]
  },
  {
   "cell_type": "code",
   "execution_count": 23,
   "metadata": {},
   "outputs": [],
   "source": [
    "def error_show():\n",
    "    fig, ax = plt.subplots(figsize=(12,8))\n",
    "    h = np.logspace(-4, -1, 15)\n",
    "    n = np.array((b-a)/h, dtype=int)\n",
    "    ax.loglog((b-a)/n, [error_simpson(a, b, n_) for n_ in n], 'o', label = r'$simpson$')\n",
    "    ax.loglog((b-a)/n, [error_trapezoid(a, b, n_) for n_ in n], 'o', label = r'$trapezoid$')\n",
    "    ax.set_xlabel(r'$h$', fontsize=16)\n",
    "    ax.set_ylabel(r'$E$', fontsize=16)\n",
    "    ax.legend(fontsize=16)\n",
    "    ax.grid()"
   ]
  },
  {
   "cell_type": "code",
   "execution_count": 10,
   "metadata": {},
   "outputs": [
    {
     "data": {
      "image/png": "[encoded data removed]",
      "text/plain": [
       "<Figure size 864x576 with 1 Axes>"
      ]
     },
     "metadata": {
      "needs_background": "light"
     },
     "output_type": "display_data"
    }
   ],
   "source": [
    "error_show()"
   ]
  },
  {
   "cell_type": "code",
   "execution_count": null,
   "metadata": {},
   "outputs": [],
   "source": []
  },
  {
   "cell_type": "code",
   "execution_count": null,
   "metadata": {},
   "outputs": [],
   "source": []
  }
 ],
 "metadata": {
  "kernelspec": {
   "display_name": "Python 3",
   "language": "python",
   "name": "python3"
  },
  "language_info": {
   "codemirror_mode": {
    "name": "ipython",
    "version": 3
   },
   "file_extension": ".py",
   "mimetype": "text/x-python",
   "name": "python",
   "nbconvert_exporter": "python",
   "pygments_lexer": "ipython3",
   "version": "3.8.5"
  }
 },
 "nbformat": 4,
 "nbformat_minor": 4
}
