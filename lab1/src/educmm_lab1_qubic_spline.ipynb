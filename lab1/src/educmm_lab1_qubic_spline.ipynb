{
 "cells": [
  {
   "cell_type": "code",
   "execution_count": 1,
   "metadata": {},
   "outputs": [],
   "source": [
    "import numpy as np\n",
    "import matplotlib\n",
    "import matplotlib.pyplot as plt"
   ]
  },
  {
   "cell_type": "code",
   "execution_count": 2,
   "metadata": {},
   "outputs": [],
   "source": [
    "# Создаёт вектор h размерности (n-1)\n",
    "def create_h_nodes(x_nodes):\n",
    "    return x_nodes[1:] - x_nodes[:-1]\n"
   ]
  },
  {
   "cell_type": "code",
   "execution_count": 3,
   "metadata": {},
   "outputs": [],
   "source": [
    "#Создаёт матрицу A \n",
    "def create_matrix_A(h_nodes):\n",
    "    left_diag = []\n",
    "    main_diag = [1.]\n",
    "    right_diag = [0.]\n",
    "    for i in range(2, len(h_nodes) + 1):\n",
    "        left_diag.append(h_nodes[i-2])\n",
    "        main_diag.append(2 * (h_nodes[i-1] + h_nodes[i-2]))\n",
    "        right_diag.append(h_nodes[i-1])\n",
    "    left_diag.append(0.)\n",
    "    main_diag.append(1.)\n",
    "    return np.diag(main_diag) + np.diag(left_diag, -1) + np.diag(right_diag, 1)\n"
   ]
  },
  {
   "cell_type": "code",
   "execution_count": 4,
   "metadata": {},
   "outputs": [],
   "source": [
    "#Создаёт матрицу B \n",
    "def create_matrix_B(h_nodes, a_nodes):\n",
    "    matrix_B = [0.]\n",
    "    for i in range(2, len(h_nodes) + 1):\n",
    "        matrix_el = 3 / h_nodes[i-1] * (a_nodes[i] - a_nodes[i-1]) - \\\n",
    "                    3 / h_nodes[i-2] * (a_nodes[i-1] - a_nodes[i-2])\n",
    "        matrix_B.append(matrix_el)\n",
    "    matrix_B.append(0.)\n",
    "    return np.array(matrix_B)\n"
   ]
  },
  {
   "cell_type": "code",
   "execution_count": 5,
   "metadata": {},
   "outputs": [],
   "source": [
    "#Создаёт вектор коэффицентов b кубического сплайна, размерность (n-1)\n",
    "def create_b_nodes(h_nodes, a_nodes, c_nodes):\n",
    "    b_nodes = []\n",
    "    for i in range(len(c_nodes) - 1):\n",
    "        b_nodes.append(1 / h_nodes[i] * (a_nodes[i+1] - a_nodes[i]) - \\\n",
    "                       h_nodes[i] / 3 * (c_nodes[i+1] + 2 * c_nodes[i]))\n",
    "    return np.array(b_nodes)\n"
   ]
  },
  {
   "cell_type": "code",
   "execution_count": 6,
   "metadata": {},
   "outputs": [],
   "source": [
    "#Создаёт вектор коэффициентов c кубического сплайна, размерность (n)\n",
    "def create_c_nodes(h_nodes, a_nodes):\n",
    "    A = create_matrix_A(h_nodes)\n",
    "    B = create_matrix_B(h_nodes, a_nodes)\n",
    "    A_inv = np.linalg.inv(A)    # обратная матрица А\n",
    "    c_nodes = np.array(A_inv.dot(B))\n",
    "    return c_nodes\n"
   ]
  },
  {
   "cell_type": "code",
   "execution_count": 7,
   "metadata": {},
   "outputs": [],
   "source": [
    "#Создаёт вектор коэффициентов d кубического сплайна, размерность (n-1)\n",
    "def create_d_nodes(h_nodes, c_nodes):\n",
    "    d_nodes = []\n",
    "    for i in range(len(h_nodes)):\n",
    "        d_nodes.append((c_nodes[i+1] - c_nodes[i]) / (3 * h_nodes[i]))\n",
    "    return np.array(d_nodes)\n"
   ]
  },
  {
   "cell_type": "code",
   "execution_count": 8,
   "metadata": {},
   "outputs": [],
   "source": [
    "#Матрица коэффициентов размерности (n-1) * 3\n",
    "def qubic_spline_coeff(x_nodes, y_nodes):\n",
    "    h_nodes = create_h_nodes(x_nodes)\n",
    "    c_nodes = create_c_nodes(h_nodes, y_nodes)\n",
    "    b_nodes = create_b_nodes(h_nodes, y_nodes, c_nodes)\n",
    "    d_nodes = create_d_nodes(h_nodes, c_nodes)\n",
    "    qubic_spline = []\n",
    "    for i in range(len(x_nodes) - 1):\n",
    "        qubic_spline.append([b_nodes[i], c_nodes[i], d_nodes[i]])\n",
    "    return qubic_spline\n"
   ]
  },
  {
   "cell_type": "code",
   "execution_count": 9,
   "metadata": {},
   "outputs": [],
   "source": [
    "#Вычисление промежутка, на котором находится заданный х\n",
    "def get_index(x, x_nodes):\n",
    "    for i in range(len(x_nodes) - 1):    \n",
    "        if x_nodes[i] <= x <= x_nodes[i+1]:\n",
    "            index = i\n",
    "            break\n",
    "    return index"
   ]
  },
  {
   "cell_type": "code",
   "execution_count": 10,
   "metadata": {},
   "outputs": [],
   "source": [
    "#Вычисление значения кубического сплайна в заданной точке х\n",
    "def qubic_spline(x, qs_coeff, x_nodes, y_nodes):\n",
    "    index = get_index(x, x_nodes)\n",
    "    a = y_nodes[index]\n",
    "    b = qs_coeff[index][0]\n",
    "    c = qs_coeff[index][1]\n",
    "    d = qs_coeff[index][2]\n",
    "    expression = a + b * (x - x_nodes[index]) + c * (x - x_nodes[index]) ** 2\\\n",
    "                   + d * (x - x_nodes[index]) ** 3\n",
    "    return expression"
   ]
  },
  {
   "cell_type": "code",
   "execution_count": 11,
   "metadata": {},
   "outputs": [],
   "source": [
    "#Вычисление первой производной кубического сплайна в точке х\n",
    "def d_qubic_spline(x, qs_coeff, x_nodes, y_nodes):\n",
    "    index = get_index(x, x_nodes)\n",
    "    b = qs_coeff[index][0]\n",
    "    c = qs_coeff[index][1]\n",
    "    d = qs_coeff[index][2]\n",
    "    expression = b + 2 * c * (x - x_nodes[index]) +3 * d * (x - x_nodes[index]) ** 2\n",
    "    return expression"
   ]
  },
  {
   "cell_type": "code",
   "execution_count": 12,
   "metadata": {},
   "outputs": [],
   "source": [
    "#Построение кубического сплайна по набору данных\n",
    "def draw_spline(x_nodes, y_nodes):\n",
    "    fig, ax = plt.subplots(figsize=(16,4))\n",
    "    qubic_x = np.linspace(0, 1, 200)\n",
    "    qubic_y = []\n",
    "    for i in range(len(qubic_x)):\n",
    "        qubic_y.append(qubic_spline(qubic_x[i], \\\n",
    "                       qubic_spline_coeff(x_nodes, y_nodes), x_nodes, y_nodes))\n",
    "    ax.scatter(x_nodes, y_nodes, color='red', s=50, marker='o')\n",
    "    ax.plot(qubic_x, qubic_y)"
   ]
  },
  {
   "cell_type": "code",
   "execution_count": 13,
   "metadata": {},
   "outputs": [],
   "source": [
    "x_nodes = np.arange(0, 1.01, 0.1)\n",
    "y_nodes = [3.37, 3.95, 3.73, 3.59, 3.15, 3.15, 3.05, 3.86, 3.60, 3.70, 3.02]"
   ]
  },
  {
   "cell_type": "code",
   "execution_count": 14,
   "metadata": {},
   "outputs": [
    {
     "data": {
      "image/png": "[encoded data removed]",
      "text/plain": [
       "<Figure size 1152x288 with 1 Axes>"
      ]
     },
     "metadata": {
      "needs_background": "light"
     },
     "output_type": "display_data"
    }
   ],
   "source": [
    "draw_spline(x_nodes, y_nodes)"
   ]
  }
 ],
 "metadata": {
  "kernelspec": {
   "display_name": "Python 3",
   "language": "python",
   "name": "python3"
  },
  "language_info": {
   "codemirror_mode": {
    "name": "ipython",
    "version": 3
   },
   "file_extension": ".py",
   "mimetype": "text/x-python",
   "name": "python",
   "nbconvert_exporter": "python",
   "pygments_lexer": "ipython3",
   "version": "3.8.5"
  }
 },
 "nbformat": 4,
 "nbformat_minor": 4
}
